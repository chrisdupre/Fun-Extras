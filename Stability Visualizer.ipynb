{
 "cells": [
  {
   "cell_type": "code",
   "execution_count": 1,
   "id": "07af8b75",
   "metadata": {},
   "outputs": [],
   "source": [
    "import ipywidgets as widgets\n",
    "import numpy as np\n",
    "import matplotlib.pyplot as plt"
   ]
  },
  {
   "cell_type": "code",
   "execution_count": 2,
   "id": "b150d045",
   "metadata": {},
   "outputs": [
    {
     "data": {
      "application/vnd.jupyter.widget-view+json": {
       "model_id": "198292f870e04c13beec9ce33236e91b",
       "version_major": 2,
       "version_minor": 0
      },
      "text/plain": [
       "VBox(children=(FloatSlider(value=0.0, description='a', max=1.0, min=-1.0), FloatSlider(value=1.0, description=…"
      ]
     },
     "metadata": {},
     "output_type": "display_data"
    }
   ],
   "source": [
    "a = widgets.FloatSlider(description='a', min = -1, max = 1, value = 0)\n",
    "b = widgets.FloatSlider(description='b', min = -1, max = 1, value = 1)\n",
    "c = widgets.FloatSlider(description='c', min = -1, max = 1, value = -1)\n",
    "d = widgets.FloatSlider(description='d', min = -1, max = 1, value = 0)\n",
    "\n",
    "stepX = 1000\n",
    "stepY = 1000\n",
    "x = np.linspace(-1,1,stepX)\n",
    "y = np.linspace(-1,1,stepY)\n",
    "\n",
    "np.zeros((stepX,stepY))\n",
    "def u(a,b,c,d,stepX,stepY):\n",
    "    uMat = np.zeros((stepX,stepY))\n",
    "    for i in range(stepX):\n",
    "        for j in range(stepY):\n",
    "            uMat[j][i] = a*x[i]+b*y[j]\n",
    "    return uMat\n",
    "\n",
    "def v(a,b,c,d,stepX,stepY):\n",
    "    vMat = np.zeros((stepX,stepY))\n",
    "    for i in range(stepX):\n",
    "        for j in range(stepY):\n",
    "            vMat[j][i] = c*x[i]+d*y[j]\n",
    "    return vMat\n",
    "\n",
    "def f(a,b,c,d):\n",
    "    uVect = u(a,b,c,d,stepX,stepY)\n",
    "    vVect = v(a,b,c,d,stepX,stepY)\n",
    "    plt.streamplot(x,y,uVect,vVect,color='#003057')\n",
    "\n",
    "out = widgets.interactive_output(f, {'a': a, 'b': b, 'c': c, 'd':d})\n",
    "\n",
    "widgets.VBox([a, b, c,d, out])\n"
   ]
  },
  {
   "cell_type": "code",
   "execution_count": null,
   "id": "5e447d0f",
   "metadata": {},
   "outputs": [],
   "source": []
  },
  {
   "cell_type": "code",
   "execution_count": null,
   "id": "8bb82616",
   "metadata": {},
   "outputs": [],
   "source": []
  }
 ],
 "metadata": {
  "kernelspec": {
   "display_name": "Python 3",
   "language": "python",
   "name": "python3"
  },
  "language_info": {
   "codemirror_mode": {
    "name": "ipython",
    "version": 3
   },
   "file_extension": ".py",
   "mimetype": "text/x-python",
   "name": "python",
   "nbconvert_exporter": "python",
   "pygments_lexer": "ipython3",
   "version": "3.8.8"
  }
 },
 "nbformat": 4,
 "nbformat_minor": 5
}
